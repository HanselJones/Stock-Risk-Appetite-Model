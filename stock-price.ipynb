{
 "cells": [
  {
   "cell_type": "markdown",
   "metadata": {},
   "source": [
    "# **Stock Investment Recommendation Model**"
   ]
  },
  {
   "cell_type": "markdown",
   "metadata": {},
   "source": [
    "## **Business Overview for Stock Investment Recommendation Model**\n",
    "\n",
    "---\n",
    "\n",
    "**Project Title:** Stock Investment Recommendation System\n",
    "\n",
    "**Overview:**  \n",
    "This project aims to create a machine learning model that delivers personalized stock investment recommendations based on individual risk appetites. By analyzing historical data from Yahoo Finance, the system will suggest suitable investments across various sectors, empowering investors with data-driven insights to enhance their decision-making and improve investment outcomes."
   ]
  },
  {
   "cell_type": "code",
   "execution_count": 2,
   "metadata": {},
   "outputs": [],
   "source": [
    "#  importing libraries\n",
    "import pandas as pd\n",
    "import numpy as np"
   ]
  },
  {
   "cell_type": "code",
   "execution_count": null,
   "metadata": {},
   "outputs": [
    {
     "name": "stderr",
     "output_type": "stream",
     "text": [
      "[*********************100%***********************]  1 of 1 completed\n",
      "[*********************100%***********************]  1 of 1 completed\n",
      "[*********************100%***********************]  1 of 1 completed\n",
      "[*********************100%***********************]  1 of 1 completed\n",
      "[*********************100%***********************]  1 of 1 completed\n",
      "[*********************100%***********************]  1 of 1 completed\n",
      "[*********************100%***********************]  1 of 1 completed\n",
      "[*********************100%***********************]  1 of 1 completed\n",
      "[*********************100%***********************]  1 of 1 completed\n",
      "[*********************100%***********************]  1 of 1 completed\n",
      "[*********************100%***********************]  1 of 1 completed\n",
      "[*********************100%***********************]  1 of 1 completed\n",
      "[*********************100%***********************]  1 of 1 completed\n",
      "[*********************100%***********************]  1 of 1 completed\n",
      "[*********************100%***********************]  1 of 1 completed\n",
      "[*********************100%***********************]  1 of 1 completed\n",
      "[*********************100%***********************]  1 of 1 completed\n",
      "[*********************100%***********************]  1 of 1 completed\n",
      "[*********************100%***********************]  1 of 1 completed\n",
      "[*********************100%***********************]  1 of 1 completed\n",
      "[*********************100%***********************]  1 of 1 completed\n",
      "[*********************100%***********************]  1 of 1 completed\n",
      "[*********************100%***********************]  1 of 1 completed\n",
      "[*********************100%***********************]  1 of 1 completed\n",
      "[*********************100%***********************]  1 of 1 completed\n",
      "[*********************100%***********************]  1 of 1 completed\n",
      "[*********************100%***********************]  1 of 1 completed\n",
      "[*********************100%***********************]  1 of 1 completed\n",
      "[*********************100%***********************]  1 of 1 completed\n",
      "[*********************100%***********************]  1 of 1 completed\n"
     ]
    },
    {
     "name": "stdout",
     "output_type": "stream",
     "text": [
      "Price                       Date  Adj Close      Close       High        Low  \\\n",
      "Ticker                                 AAPL       AAPL       AAPL       AAPL   \n",
      "0      2020-01-02 00:00:00+00:00  72.876114  75.087502  75.150002  73.797501   \n",
      "1      2020-01-03 00:00:00+00:00  72.167610  74.357498  75.144997  74.125000   \n",
      "2      2020-01-06 00:00:00+00:00  72.742661  74.949997  74.989998  73.187500   \n",
      "3      2020-01-07 00:00:00+00:00  72.400528  74.597504  75.224998  74.370003   \n",
      "4      2020-01-08 00:00:00+00:00  73.565208  75.797501  76.110001  74.290001   \n",
      "\n",
      "Price        Open       Volume Symbol Adj Close Close  ... High Low Open  \\\n",
      "Ticker       AAPL         AAPL              XOM   XOM  ...  ABT ABT  ABT   \n",
      "0       74.059998  135480400.0   AAPL       NaN   NaN  ...  NaN NaN  NaN   \n",
      "1       74.287498  146322800.0   AAPL       NaN   NaN  ...  NaN NaN  NaN   \n",
      "2       73.447502  118387200.0   AAPL       NaN   NaN  ...  NaN NaN  NaN   \n",
      "3       74.959999  108872000.0   AAPL       NaN   NaN  ...  NaN NaN  NaN   \n",
      "4       74.290001  132079200.0   AAPL       NaN   NaN  ...  NaN NaN  NaN   \n",
      "\n",
      "Price  Volume Adj Close Close High Low Open Volume  \n",
      "Ticker    ABT       MDT   MDT  MDT MDT  MDT    MDT  \n",
      "0         NaN       NaN   NaN  NaN NaN  NaN    NaN  \n",
      "1         NaN       NaN   NaN  NaN NaN  NaN    NaN  \n",
      "2         NaN       NaN   NaN  NaN NaN  NaN    NaN  \n",
      "3         NaN       NaN   NaN  NaN NaN  NaN    NaN  \n",
      "4         NaN       NaN   NaN  NaN NaN  NaN    NaN  \n",
      "\n",
      "[5 rows x 182 columns]\n"
     ]
    }
   ],
   "source": [
    "import yfinance as yf\n",
    "\n",
    "\n",
    "# List of stock symbols for 30 companies across different sectors\n",
    "stock_symbols = [\n",
    "    \"AAPL\", \n",
    "    \"XOM\", \n",
    "    \"JPM\", \n",
    "    \"PG\",  \n",
    "    \"JNJ\", \n",
    "    \"NEE\",\n",
    "    \"MSFT\",\n",
    "    \"AMZN\",\n",
    "    \"TSLA\",\n",
    "    \"GOOGL\",\n",
    "    \"NVDA\", \n",
    "    \"V\", \n",
    "    \"MA\",\n",
    "    \"DIS\", \n",
    "    \"NFLX\", \n",
    "    \"INTC\", \n",
    "    \"CSCO\",\n",
    "    \"PFE\",  \n",
    "    \"KO\", \n",
    "    \"PEP\",\n",
    "    \"T\",\n",
    "    \"VZ\",\n",
    "    \"CMCSA\",\n",
    "    \"ADBE\",\n",
    "    \"IBM\", \n",
    "    \"NKE\",  \n",
    "    \"CRM\",   \n",
    "    \"LLY\",   \n",
    "    \"ABT\",   \n",
    "    \"MDT\"    \n",
    "]\n",
    "\n",
    "# Define the time period for historical data\n",
    "start_date = \"2020-01-01\"\n",
    "end_date = \"2024-01-01\"\n",
    "\n",
    "# Create an empty DataFrame to store the data\n",
    "all_stocks_data = pd.DataFrame()\n",
    "\n",
    "# Download historical stock data for each company\n",
    "for symbol in stock_symbols:\n",
    "    stock_data = yf.download(symbol, start=start_date, end=end_date)\n",
    "    stock_data['Symbol'] = symbol \n",
    "    all_stocks_data = pd.concat([all_stocks_data, stock_data])\n",
    "\n",
    "# Reset index\n",
    "all_stocks_data.reset_index(inplace=True)\n",
    "\n",
    "# Display the first few rows of the combined DataFrame\n",
    "print(all_stocks_data.head())\n",
    "\n",
    "# Save the data to a CSV file if needed\n",
    "all_stocks_data.to_csv('stocks_data.csv', index=False)\n"
   ]
  },
  {
   "cell_type": "code",
   "execution_count": null,
   "metadata": {},
   "outputs": [],
   "source": []
  }
 ],
 "metadata": {
  "kernelspec": {
   "display_name": ".venv",
   "language": "python",
   "name": "python3"
  },
  "language_info": {
   "codemirror_mode": {
    "name": "ipython",
    "version": 3
   },
   "file_extension": ".py",
   "mimetype": "text/x-python",
   "name": "python",
   "nbconvert_exporter": "python",
   "pygments_lexer": "ipython3",
   "version": "3.12.2"
  }
 },
 "nbformat": 4,
 "nbformat_minor": 2
}
