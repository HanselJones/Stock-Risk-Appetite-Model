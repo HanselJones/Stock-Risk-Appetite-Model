{
 "cells": [
  {
   "cell_type": "markdown",
   "metadata": {},
   "source": [
    "# **Stock Investment Recommendation Model**"
   ]
  },
  {
   "cell_type": "markdown",
   "metadata": {},
   "source": [
    "## **Business Overview for Stock Investment Recommendation Model**\n",
    "\n",
    "---\n",
    "\n",
    "**Project Title:** Stock Investment Recommendation System\n",
    "\n",
    "**Overview:**  \n",
    "This project aims to create a machine learning model that delivers personalized stock investment recommendations based on individual risk appetites. By analyzing historical data from Yahoo Finance, the system will suggest suitable investments across various sectors, empowering investors with data-driven insights to enhance their decision-making and improve investment outcomes."
   ]
  },
  {
   "cell_type": "code",
   "execution_count": 1,
   "metadata": {},
   "outputs": [],
   "source": [
    "#  importing libraries\n",
    "import pandas as pd\n",
    "import numpy as np"
   ]
  },
  {
   "cell_type": "code",
   "execution_count": 4,
   "metadata": {},
   "outputs": [
    {
     "name": "stderr",
     "output_type": "stream",
     "text": [
      "[*********************100%***********************]  1 of 1 completed\n",
      "[*********************100%***********************]  1 of 1 completed\n",
      "[*********************100%***********************]  1 of 1 completed\n",
      "[*********************100%***********************]  1 of 1 completed\n",
      "[*********************100%***********************]  1 of 1 completed\n",
      "[*********************100%***********************]  1 of 1 completed\n",
      "[*********************100%***********************]  1 of 1 completed\n",
      "[*********************100%***********************]  1 of 1 completed\n",
      "[*********************100%***********************]  1 of 1 completed\n",
      "[*********************100%***********************]  1 of 1 completed\n",
      "[*********************100%***********************]  1 of 1 completed\n",
      "\n",
      "1 Failed download:\n",
      "['FB']: YFTzMissingError('$%ticker%: possibly delisted; no timezone found')\n",
      "C:\\Users\\Hp\\AppData\\Local\\Temp\\ipykernel_16428\\2975935225.py:50: FutureWarning: The behavior of array concatenation with empty entries is deprecated. In a future version, this will no longer exclude empty items when determining the result dtype. To retain the old behavior, exclude the empty entries before the concat operation.\n",
      "  all_stocks_data = pd.concat([all_stocks_data, stock_data])\n",
      "[*********************100%***********************]  1 of 1 completed\n",
      "[*********************100%***********************]  1 of 1 completed\n",
      "[*********************100%***********************]  1 of 1 completed\n",
      "[*********************100%***********************]  1 of 1 completed\n",
      "[*********************100%***********************]  1 of 1 completed\n",
      "[*********************100%***********************]  1 of 1 completed\n",
      "[*********************100%***********************]  1 of 1 completed\n",
      "[*********************100%***********************]  1 of 1 completed\n",
      "[*********************100%***********************]  1 of 1 completed\n",
      "[*********************100%***********************]  1 of 1 completed\n",
      "[*********************100%***********************]  1 of 1 completed\n",
      "[*********************100%***********************]  1 of 1 completed\n",
      "[*********************100%***********************]  1 of 1 completed\n",
      "[*********************100%***********************]  1 of 1 completed\n",
      "[*********************100%***********************]  1 of 1 completed\n",
      "[*********************100%***********************]  1 of 1 completed\n",
      "[*********************100%***********************]  1 of 1 completed\n",
      "[*********************100%***********************]  1 of 1 completed\n",
      "[*********************100%***********************]  1 of 1 completed\n",
      "[*********************100%***********************]  1 of 1 completed\n"
     ]
    },
    {
     "name": "stdout",
     "output_type": "stream",
     "text": [
      "        Date       Open       High        Low      Close  Adj Close  \\\n",
      "0 2020-01-02  74.059998  75.150002  73.797501  75.087502  72.876114   \n",
      "1 2020-01-03  74.287498  75.144997  74.125000  74.357498  72.167603   \n",
      "2 2020-01-06  73.447502  74.989998  73.187500  74.949997  72.742661   \n",
      "3 2020-01-07  74.959999  75.224998  74.370003  74.597504  72.400528   \n",
      "4 2020-01-08  74.290001  76.110001  74.290001  75.797501  73.565186   \n",
      "\n",
      "        Volume Symbol  \n",
      "0  135480400.0   AAPL  \n",
      "1  146322800.0   AAPL  \n",
      "2  118387200.0   AAPL  \n",
      "3  108872000.0   AAPL  \n",
      "4  132079200.0   AAPL  \n"
     ]
    }
   ],
   "source": [
    "import yfinance as yf\n",
    "\n",
    "\n",
    "# List of stock symbols for 30 companies across different sectors\n",
    "stock_symbols = [\n",
    "    \"AAPL\",  # Apple Inc.\n",
    "    \"XOM\",   # ExxonMobil\n",
    "    \"JPM\",   # JPMorgan Chase & Co.\n",
    "    \"PG\",    # Procter & Gamble Co.\n",
    "    \"JNJ\",   # Johnson & Johnson\n",
    "    \"NEE\",   # NextEra Energy\n",
    "    \"MSFT\",  # Microsoft Corporation\n",
    "    \"AMZN\",  # Amazon.com Inc.\n",
    "    \"TSLA\",  # Tesla Inc.\n",
    "    \"GOOGL\", # Alphabet Inc. (Class A)\n",
    "    \"FB\",    # Meta Platforms Inc. (Facebook)\n",
    "    \"NVDA\",  # NVIDIA Corporation\n",
    "    \"V\",     # Visa Inc.\n",
    "    \"MA\",    # Mastercard Incorporated\n",
    "    \"DIS\",   # The Walt Disney Company\n",
    "    \"NFLX\",  # Netflix Inc.\n",
    "    \"INTC\",  # Intel Corporation\n",
    "    \"CSCO\",  # Cisco Systems Inc.\n",
    "    \"PFE\",   # Pfizer Inc.\n",
    "    \"KO\",    # The Coca-Cola Company\n",
    "    \"PEP\",   # PepsiCo Inc.\n",
    "    \"T\",     # AT&T Inc.\n",
    "    \"VZ\",    # Verizon Communications Inc.\n",
    "    \"CMCSA\", # Comcast Corporation\n",
    "    \"ADBE\",  # Adobe Inc.\n",
    "    \"IBM\",   # International Business Machines Corporation\n",
    "    \"NKE\",   # NIKE, Inc.\n",
    "    \"CRM\",   # Salesforce.com Inc.\n",
    "    \"LLY\",   # Eli Lilly and Company\n",
    "    \"ABT\",   # Abbott Laboratories\n",
    "    \"MDT\"    # Medtronic plc\n",
    "]\n",
    "\n",
    "# Define the time period for historical data\n",
    "start_date = \"2020-01-01\"\n",
    "end_date = \"2024-01-01\"  # Adjust as needed\n",
    "\n",
    "# Create an empty DataFrame to store the data\n",
    "all_stocks_data = pd.DataFrame()\n",
    "\n",
    "# Download historical stock data for each company\n",
    "for symbol in stock_symbols:\n",
    "    stock_data = yf.download(symbol, start=start_date, end=end_date)\n",
    "    stock_data['Symbol'] = symbol  # Add a column for the stock symbol\n",
    "    all_stocks_data = pd.concat([all_stocks_data, stock_data])\n",
    "\n",
    "# Reset index\n",
    "all_stocks_data.reset_index(inplace=True)\n",
    "\n",
    "# Display the first few rows of the combined DataFrame\n",
    "print(all_stocks_data.head())\n",
    "\n",
    "# Save the data to a CSV file if needed\n",
    "all_stocks_data.to_csv('stocks_data.csv', index=False)\n"
   ]
  }
 ],
 "metadata": {
  "kernelspec": {
   "display_name": "env_3",
   "language": "python",
   "name": "python3"
  },
  "language_info": {
   "codemirror_mode": {
    "name": "ipython",
    "version": 3
   },
   "file_extension": ".py",
   "mimetype": "text/x-python",
   "name": "python",
   "nbconvert_exporter": "python",
   "pygments_lexer": "ipython3",
   "version": "3.12.7"
  }
 },
 "nbformat": 4,
 "nbformat_minor": 2
}
